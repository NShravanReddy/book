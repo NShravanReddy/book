{
 "cells": [
  {
   "cell_type": "code",
   "execution_count": 13,
   "metadata": {},
   "outputs": [],
   "source": [
    "import torch\n"
   ]
  },
  {
   "cell_type": "code",
   "execution_count": 4,
   "metadata": {},
   "outputs": [
    {
     "name": "stdout",
     "output_type": "stream",
     "text": [
      "{'status': '200', 'message': '', 'device_type': 1, 'locality_weather_data': {'temperature': 32.94, 'humidity': 57.29, 'wind_speed': 0.11, 'wind_direction': 319.8, 'rain_intensity': 0, 'rain_accumulation': 0}}\n"
     ]
    }
   ],
   "source": [
    "import requests\n",
    "\n",
    "url = 'https://weatherunion.com/gw/weather/external/v0/get_weather_data'\n",
    "\n",
    "# Nigdi, Pune\n",
    "params = {\n",
    "    'latitude': 18.6492,\n",
    "    'longitude': 73.7707\n",
    "}\n",
    "\n",
    "headers = {\n",
    "    #'x-zomato-api-key': '5ef2decd99c5f0e3f06c9d7492f9ac84'\n",
    "}\n",
    "\n",
    "response = requests.get(url, params=params, headers=headers)\n",
    "\n",
    "if response.status_code == 200:\n",
    "    weather_data = response.json()\n",
    "    print(weather_data)\n"
   ]
  },
  {
   "cell_type": "code",
   "execution_count": 18,
   "metadata": {},
   "outputs": [
    {
     "data": {
      "text/html": [
       "<div>\n",
       "<style scoped>\n",
       "    .dataframe tbody tr th:only-of-type {\n",
       "        vertical-align: middle;\n",
       "    }\n",
       "\n",
       "    .dataframe tbody tr th {\n",
       "        vertical-align: top;\n",
       "    }\n",
       "\n",
       "    .dataframe thead th {\n",
       "        text-align: right;\n",
       "    }\n",
       "</style>\n",
       "<table border=\"1\" class=\"dataframe\">\n",
       "  <thead>\n",
       "    <tr style=\"text-align: right;\">\n",
       "      <th></th>\n",
       "      <th>city_name</th>\n",
       "      <th>locality_name</th>\n",
       "      <th>device_date_time</th>\n",
       "      <th>rain_intensity</th>\n",
       "      <th>rain_accumulation</th>\n",
       "      <th>humidity</th>\n",
       "      <th>temperature</th>\n",
       "      <th>wind_direction</th>\n",
       "      <th>wind_speed</th>\n",
       "    </tr>\n",
       "  </thead>\n",
       "  <tbody>\n",
       "    <tr>\n",
       "      <th>0</th>\n",
       "      <td>Bengaluru</td>\n",
       "      <td>Bellandur</td>\n",
       "      <td>2024-06-13 23:59:00</td>\n",
       "      <td>0.0</td>\n",
       "      <td>22.8</td>\n",
       "      <td>87.10</td>\n",
       "      <td>22.86</td>\n",
       "      <td>190.6</td>\n",
       "      <td>2.62</td>\n",
       "    </tr>\n",
       "    <tr>\n",
       "      <th>1</th>\n",
       "      <td>Bengaluru</td>\n",
       "      <td>Bellandur</td>\n",
       "      <td>2024-06-13 23:58:00</td>\n",
       "      <td>0.0</td>\n",
       "      <td>22.8</td>\n",
       "      <td>87.13</td>\n",
       "      <td>22.87</td>\n",
       "      <td>217.5</td>\n",
       "      <td>3.07</td>\n",
       "    </tr>\n",
       "    <tr>\n",
       "      <th>2</th>\n",
       "      <td>Bengaluru</td>\n",
       "      <td>Bellandur</td>\n",
       "      <td>2024-06-13 23:57:00</td>\n",
       "      <td>0.0</td>\n",
       "      <td>22.8</td>\n",
       "      <td>87.10</td>\n",
       "      <td>22.89</td>\n",
       "      <td>221.0</td>\n",
       "      <td>1.89</td>\n",
       "    </tr>\n",
       "    <tr>\n",
       "      <th>3</th>\n",
       "      <td>Bengaluru</td>\n",
       "      <td>Bellandur</td>\n",
       "      <td>2024-06-13 23:56:00</td>\n",
       "      <td>0.0</td>\n",
       "      <td>22.8</td>\n",
       "      <td>87.10</td>\n",
       "      <td>22.90</td>\n",
       "      <td>204.9</td>\n",
       "      <td>1.54</td>\n",
       "    </tr>\n",
       "    <tr>\n",
       "      <th>4</th>\n",
       "      <td>Bengaluru</td>\n",
       "      <td>Bellandur</td>\n",
       "      <td>2024-06-13 23:55:00</td>\n",
       "      <td>0.0</td>\n",
       "      <td>22.8</td>\n",
       "      <td>87.04</td>\n",
       "      <td>22.90</td>\n",
       "      <td>231.4</td>\n",
       "      <td>1.47</td>\n",
       "    </tr>\n",
       "  </tbody>\n",
       "</table>\n",
       "</div>"
      ],
      "text/plain": [
       "   city_name locality_name     device_date_time  rain_intensity  \\\n",
       "0  Bengaluru     Bellandur  2024-06-13 23:59:00             0.0   \n",
       "1  Bengaluru     Bellandur  2024-06-13 23:58:00             0.0   \n",
       "2  Bengaluru     Bellandur  2024-06-13 23:57:00             0.0   \n",
       "3  Bengaluru     Bellandur  2024-06-13 23:56:00             0.0   \n",
       "4  Bengaluru     Bellandur  2024-06-13 23:55:00             0.0   \n",
       "\n",
       "   rain_accumulation  humidity  temperature  wind_direction  wind_speed  \n",
       "0               22.8     87.10        22.86           190.6        2.62  \n",
       "1               22.8     87.13        22.87           217.5        3.07  \n",
       "2               22.8     87.10        22.89           221.0        1.89  \n",
       "3               22.8     87.10        22.90           204.9        1.54  \n",
       "4               22.8     87.04        22.90           231.4        1.47  "
      ]
     },
     "execution_count": 18,
     "metadata": {},
     "output_type": "execute_result"
    }
   ],
   "source": [
    "import pandas as pd\n",
    "ndata=pd.read_csv(\"Bellandur_20231214_20240613.csv\")\n",
    "ndata.head()"
   ]
  },
  {
   "cell_type": "code",
   "execution_count": 19,
   "metadata": {},
   "outputs": [
    {
     "data": {
      "text/plain": [
       "(245667, 9)"
      ]
     },
     "execution_count": 19,
     "metadata": {},
     "output_type": "execute_result"
    }
   ],
   "source": [
    "ndata.shape"
   ]
  },
  {
   "cell_type": "code",
   "execution_count": 28,
   "metadata": {},
   "outputs": [
    {
     "name": "stdout",
     "output_type": "stream",
     "text": [
      "Converted PyTorch Tensor (numeric data only):\n",
      "Converted PyTorch Tensor:\n",
      "tensor([[  0.0000,  22.8000,  87.1000,  22.8600, 190.6000,   2.6200],\n",
      "        [  0.0000,  22.8000,  87.1300,  22.8700, 217.5000,   3.0700],\n",
      "        [  0.0000,  22.8000,  87.1000,  22.8900, 221.0000,   1.8900],\n",
      "        ...,\n",
      "        [  0.0000,   0.0000,  88.0200,  18.8600,  60.2000,   0.6300],\n",
      "        [  0.0000,   0.0000,  88.0200,  18.8600,  91.9000,   1.0900],\n",
      "        [  0.0000,   0.0000,  87.9900,  18.8700,  64.4000,   1.4000]])\n"
     ]
    }
   ],
   "source": [
    "ndata['device_date_time'] = pd.to_datetime(ndata['device_date_time']).astype(int) // 10**9  # Convert to UNIX timestamp\n",
    "\n",
    "# Convert numeric columns to PyTorch tensor\n",
    "numeric_cols = ndata.select_dtypes(include=['float64', 'float32', 'int64', 'int32']).columns\n",
    "tensor_data_numeric = torch.tensor(ndata[numeric_cols].values, dtype=torch.float32)\n",
    "\n",
    "print(\"Converted PyTorch Tensor (numeric data only):\")\n",
    "print(\"Converted PyTorch Tensor:\")\n",
    "print(tensor_data)"
   ]
  },
  {
   "cell_type": "code",
   "execution_count": 30,
   "metadata": {},
   "outputs": [
    {
     "data": {
      "text/plain": [
       "torch.Size([245667, 6])"
      ]
     },
     "execution_count": 30,
     "metadata": {},
     "output_type": "execute_result"
    }
   ],
   "source": [
    "tensor_data.shape"
   ]
  },
  {
   "cell_type": "code",
   "execution_count": 33,
   "metadata": {},
   "outputs": [
    {
     "name": "stdout",
     "output_type": "stream",
     "text": [
      "tensor([[1., 2., 3., 4., 5.],\n",
      "        [0., 0., 0., 0., 0.],\n",
      "        [0., 0., 0., 0., 0.],\n",
      "        [0., 0., 0., 0., 0.],\n",
      "        [0., 0., 0., 0., 0.]])\n"
     ]
    }
   ],
   "source": [
    "import torch\n",
    "\n",
    "# Example tensor (replace with your actual tensor)\n",
    "tensor_data = torch.zeros(5, 5)  # Example tensor of zeros, adjust dimensions as per your data\n",
    "\n",
    "# Example scatter operation (scatter_ usage)\n",
    "index = torch.tensor([0, 1, 2, 3, 4])  # Example indices to scatter along dim=1 (columns)\n",
    "src = torch.tensor([1, 2, 3, 4, 5], dtype=torch.float32)  # Example source tensor with values to scatter\n",
    "\n",
    "tensor_data.scatter_(1, index.unsqueeze(0), src.unsqueeze(0))\n",
    "\n",
    "print(tensor_data)\n"
   ]
  }
 ],
 "metadata": {
  "kernelspec": {
   "display_name": "pytorch_env",
   "language": "python",
   "name": "python3"
  },
  "language_info": {
   "codemirror_mode": {
    "name": "ipython",
    "version": 3
   },
   "file_extension": ".py",
   "mimetype": "text/x-python",
   "name": "python",
   "nbconvert_exporter": "python",
   "pygments_lexer": "ipython3",
   "version": "3.1.-1"
  }
 },
 "nbformat": 4,
 "nbformat_minor": 2
}
