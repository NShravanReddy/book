{
 "cells": [
  {
   "cell_type": "code",
   "execution_count": 222,
   "id": "dc67d159-96a5-4864-a50b-fdb7d85eb26e",
   "metadata": {},
   "outputs": [],
   "source": [
    "import torch\n",
    "import torch.nn.functional as F\n",
    "import matplotlib.pyplot as plt\n",
    "%matplotlib inline"
   ]
  },
  {
   "cell_type": "code",
   "execution_count": 223,
   "id": "c0019886-0890-4745-8ac2-932402204c74",
   "metadata": {},
   "outputs": [
    {
     "data": {
      "text/plain": [
       "['emma', 'olivia', 'ava', 'isabella', 'sophia', 'charlotte', 'mia', 'amelia']"
      ]
     },
     "execution_count": 223,
     "metadata": {},
     "output_type": "execute_result"
    }
   ],
   "source": [
    "words=open('names.txt','r').read().splitlines()\n",
    "words[:8]"
   ]
  },
  {
   "cell_type": "code",
   "execution_count": 224,
   "id": "68818aaf-d1b8-4898-be58-cace9ccd19f9",
   "metadata": {},
   "outputs": [
    {
     "data": {
      "text/plain": [
       "32033"
      ]
     },
     "execution_count": 224,
     "metadata": {},
     "output_type": "execute_result"
    }
   ],
   "source": [
    "len(words)"
   ]
  },
  {
   "cell_type": "code",
   "execution_count": 225,
   "id": "f604062d-86b6-485d-8156-135be60b6c44",
   "metadata": {},
   "outputs": [
    {
     "name": "stdout",
     "output_type": "stream",
     "text": [
      "{1: 'a', 2: 'b', 3: 'c', 4: 'd', 5: 'e', 6: 'f', 7: 'g', 8: 'h', 9: 'i', 10: 'j', 11: 'k', 12: 'l', 13: 'm', 14: 'n', 15: 'o', 16: 'p', 17: 'q', 18: 'r', 19: 's', 20: 't', 21: 'u', 22: 'v', 23: 'w', 24: 'x', 25: 'y', 26: 'z', 0: '.'}\n"
     ]
    }
   ],
   "source": [
    "chars=sorted(list(set(''.join(words))))\n",
    "stoi={s:i+1 for i,s in enumerate(chars)}\n",
    "stoi['.']=0\n",
    "itos={i:s for s,i in stoi.items()}\n",
    "print(itos)"
   ]
  },
  {
   "cell_type": "code",
   "execution_count": 226,
   "id": "56941f51-1fbb-4d47-9788-5336d798a204",
   "metadata": {},
   "outputs": [
    {
     "name": "stdout",
     "output_type": "stream",
     "text": [
      "torch.Size([182625, 3]) torch.Size([182625])\n",
      "torch.Size([22655, 3]) torch.Size([22655])\n",
      "torch.Size([22866, 3]) torch.Size([22866])\n"
     ]
    }
   ],
   "source": [
    "def build_dataset(words):\n",
    "    block_size=3\n",
    "    X,Y=[], []\n",
    "    for w in words:\n",
    "       \n",
    "    \n",
    "        context=[0] * block_size\n",
    "        for ch in w + '.':\n",
    "            ix=stoi[ch]\n",
    "            X.append(context)\n",
    "            Y.append(ix)\n",
    "            \n",
    "            #print(''.join(itos[i] for i in context), '---->', itos[ix])\n",
    "            context=context[1:] +[ix]\n",
    "    \n",
    "    X=torch.tensor(X)\n",
    "    Y=torch.tensor(Y)\n",
    "    print(X.shape,Y.shape)\n",
    "    return X,Y\n",
    "import random \n",
    "random.seed(42)\n",
    "random.shuffle(words)\n",
    "n1=int(0.8 * len(words))\n",
    "n2=int(0.9 * len(words))\n",
    "\n",
    "Xtr, Ytr =build_dataset(words[:n1])\n",
    "Xdev, Ydev= build_dataset(words[n1:n2])\n",
    "Xte, Yte = build_dataset(words[n2:])"
   ]
  },
  {
   "cell_type": "markdown",
   "id": "f36e5414-72d9-4a1b-8b34-5b97d942787f",
   "metadata": {},
   "source": [
    "a=random.random()\n",
    "print(a)"
   ]
  },
  {
   "cell_type": "code",
   "execution_count": 227,
   "id": "6ab3cc92-573b-4034-aa7f-0c15156d4f25",
   "metadata": {},
   "outputs": [
    {
     "data": {
      "text/plain": [
       "(torch.Size([228146, 3]), torch.int64, torch.Size([228146]), torch.int64)"
      ]
     },
     "execution_count": 227,
     "metadata": {},
     "output_type": "execute_result"
    }
   ],
   "source": [
    "X.shape, X.dtype , Y.shape , Y.dtype"
   ]
  },
  {
   "cell_type": "code",
   "execution_count": 228,
   "id": "031f2204-369f-4228-8fed-ebddd1bd83e8",
   "metadata": {},
   "outputs": [
    {
     "data": {
      "text/plain": [
       "tensor([[ 0,  0,  0],\n",
       "        [ 0,  0,  5],\n",
       "        [ 0,  5, 13],\n",
       "        ...,\n",
       "        [26, 26, 25],\n",
       "        [26, 25, 26],\n",
       "        [25, 26, 24]])"
      ]
     },
     "execution_count": 228,
     "metadata": {},
     "output_type": "execute_result"
    }
   ],
   "source": [
    "X"
   ]
  },
  {
   "cell_type": "code",
   "execution_count": 229,
   "id": "fac7f1ff-96f4-4797-aaf0-057635ee211a",
   "metadata": {},
   "outputs": [
    {
     "data": {
      "text/plain": [
       "tensor([ 5, 13, 13,  ..., 26, 24,  0])"
      ]
     },
     "execution_count": 229,
     "metadata": {},
     "output_type": "execute_result"
    }
   ],
   "source": [
    "Y"
   ]
  },
  {
   "cell_type": "code",
   "execution_count": 230,
   "id": "6b8fd767-3bbc-41b6-a834-0a36e818d54a",
   "metadata": {},
   "outputs": [],
   "source": [
    "C = torch.randn((27,2))"
   ]
  },
  {
   "cell_type": "code",
   "execution_count": 231,
   "id": "bf6bd575-1b59-4888-81ce-f845d0592449",
   "metadata": {},
   "outputs": [
    {
     "data": {
      "text/plain": [
       "tensor([0.5980, 0.7668])"
      ]
     },
     "execution_count": 231,
     "metadata": {},
     "output_type": "execute_result"
    }
   ],
   "source": [
    "C[3]  #.dtype"
   ]
  },
  {
   "cell_type": "code",
   "execution_count": 232,
   "id": "eb2042dc-3afe-4e84-83c2-d25737b3753c",
   "metadata": {},
   "outputs": [
    {
     "data": {
      "text/plain": [
       "tensor([0, 0, 0, 1, 0, 0, 0, 0, 0, 0, 0, 0, 0, 0, 0, 0, 0, 0, 0, 0, 0, 0, 0, 0,\n",
       "        0, 0, 0])"
      ]
     },
     "execution_count": 232,
     "metadata": {},
     "output_type": "execute_result"
    }
   ],
   "source": [
    "F.one_hot(torch.tensor(3), num_classes=27)    #.dtype"
   ]
  },
  {
   "cell_type": "code",
   "execution_count": 233,
   "id": "da55f066-1357-48b8-9406-96f16be4414d",
   "metadata": {},
   "outputs": [
    {
     "data": {
      "text/plain": [
       "tensor([0.5980, 0.7668])"
      ]
     },
     "execution_count": 233,
     "metadata": {},
     "output_type": "execute_result"
    }
   ],
   "source": [
    "F.one_hot(torch.tensor(3), num_classes=27).float() @ C"
   ]
  },
  {
   "cell_type": "code",
   "execution_count": 234,
   "id": "fe5585b1-251c-43dd-85ec-78073484c621",
   "metadata": {},
   "outputs": [
    {
     "data": {
      "text/plain": [
       "tensor([[-1.9165,  1.0162],\n",
       "        [ 1.2228, -0.5580],\n",
       "        [ 0.5533, -1.1516]])"
      ]
     },
     "execution_count": 234,
     "metadata": {},
     "output_type": "execute_result"
    }
   ],
   "source": [
    "C[[5,6,7]]"
   ]
  },
  {
   "cell_type": "code",
   "execution_count": 235,
   "id": "e2d77ab3-8856-45c6-ba45-4b303cdb1757",
   "metadata": {},
   "outputs": [
    {
     "data": {
      "text/plain": [
       "tensor([[-1.9165,  1.0162],\n",
       "        [ 1.2228, -0.5580],\n",
       "        [ 0.5533, -1.1516]])"
      ]
     },
     "execution_count": 235,
     "metadata": {},
     "output_type": "execute_result"
    }
   ],
   "source": [
    "C[torch.tensor([5,6,7])]"
   ]
  },
  {
   "cell_type": "code",
   "execution_count": 236,
   "id": "391fccf8-7d5e-43b5-b8e7-b802f93ef490",
   "metadata": {},
   "outputs": [
    {
     "data": {
      "text/plain": [
       "tensor([[-1.9165,  1.0162],\n",
       "        [ 1.2228, -0.5580],\n",
       "        [ 0.5533, -1.1516],\n",
       "        [ 0.5533, -1.1516],\n",
       "        [ 0.5533, -1.1516]])"
      ]
     },
     "execution_count": 236,
     "metadata": {},
     "output_type": "execute_result"
    }
   ],
   "source": [
    "C[torch.tensor([5,6,7,7,7])]"
   ]
  },
  {
   "cell_type": "code",
   "execution_count": 237,
   "id": "f628f807-a3c7-4b1e-91a4-0bcb1536ab1d",
   "metadata": {},
   "outputs": [
    {
     "data": {
      "text/plain": [
       "tensor([[[ 0.1060, -1.0625],\n",
       "         [ 0.1060, -1.0625],\n",
       "         [ 0.1060, -1.0625]],\n",
       "\n",
       "        [[ 0.1060, -1.0625],\n",
       "         [ 0.1060, -1.0625],\n",
       "         [-1.9165,  1.0162]],\n",
       "\n",
       "        [[ 0.1060, -1.0625],\n",
       "         [-1.9165,  1.0162],\n",
       "         [ 0.8305, -0.3166]],\n",
       "\n",
       "        ...,\n",
       "\n",
       "        [[ 0.7234, -1.1049],\n",
       "         [ 0.7234, -1.1049],\n",
       "         [ 0.3618,  0.5678]],\n",
       "\n",
       "        [[ 0.7234, -1.1049],\n",
       "         [ 0.3618,  0.5678],\n",
       "         [ 0.7234, -1.1049]],\n",
       "\n",
       "        [[ 0.3618,  0.5678],\n",
       "         [ 0.7234, -1.1049],\n",
       "         [ 0.2222,  0.1605]]])"
      ]
     },
     "execution_count": 237,
     "metadata": {},
     "output_type": "execute_result"
    }
   ],
   "source": [
    "C[X]"
   ]
  },
  {
   "cell_type": "code",
   "execution_count": 238,
   "id": "ef373e33-2f2a-4a6d-bde2-999e026de5b7",
   "metadata": {},
   "outputs": [
    {
     "data": {
      "text/plain": [
       "torch.Size([228146, 3, 2])"
      ]
     },
     "execution_count": 238,
     "metadata": {},
     "output_type": "execute_result"
    }
   ],
   "source": [
    "C[X].shape"
   ]
  },
  {
   "cell_type": "code",
   "execution_count": 239,
   "id": "b93e0b22-a806-4889-a12c-3456220e35fd",
   "metadata": {},
   "outputs": [
    {
     "data": {
      "text/plain": [
       "tensor(1)"
      ]
     },
     "execution_count": 239,
     "metadata": {},
     "output_type": "execute_result"
    }
   ],
   "source": [
    "X[13,2]"
   ]
  },
  {
   "cell_type": "code",
   "execution_count": 240,
   "id": "bff9cf6d-4919-4b77-b69a-de2558bce388",
   "metadata": {},
   "outputs": [
    {
     "data": {
      "text/plain": [
       "tensor([0.0382, 0.3167])"
      ]
     },
     "execution_count": 240,
     "metadata": {},
     "output_type": "execute_result"
    }
   ],
   "source": [
    "C[X][13,2]"
   ]
  },
  {
   "cell_type": "code",
   "execution_count": 241,
   "id": "644aab1c-e21f-4605-8303-d9b962f164c0",
   "metadata": {},
   "outputs": [
    {
     "data": {
      "text/plain": [
       "torch.Size([228146, 3, 2])"
      ]
     },
     "execution_count": 241,
     "metadata": {},
     "output_type": "execute_result"
    }
   ],
   "source": [
    "emb=C[X]\n",
    "emb.shape"
   ]
  },
  {
   "cell_type": "code",
   "execution_count": 242,
   "id": "254ae3e6-9d75-4ca4-9654-5f6b0123d0fc",
   "metadata": {},
   "outputs": [],
   "source": [
    "W1=torch.rand((6,100))\n",
    "b1=torch.randn(100)\n"
   ]
  },
  {
   "cell_type": "code",
   "execution_count": 243,
   "id": "930cdf25-99a8-4b63-ab3b-5d152a1e0401",
   "metadata": {},
   "outputs": [],
   "source": [
    "h=torch.tanh(emb.view(-1,6) @ W1 +b1)"
   ]
  },
  {
   "cell_type": "code",
   "execution_count": 244,
   "id": "f43d65b4-b4fb-4164-8a2f-29b8990554d0",
   "metadata": {},
   "outputs": [
    {
     "data": {
      "text/plain": [
       "torch.Size([228146, 100])"
      ]
     },
     "execution_count": 244,
     "metadata": {},
     "output_type": "execute_result"
    }
   ],
   "source": [
    "h.shape"
   ]
  },
  {
   "cell_type": "code",
   "execution_count": 245,
   "id": "72d7da80-b5f6-4aef-8ad3-ba5f0b1437f3",
   "metadata": {},
   "outputs": [
    {
     "data": {
      "text/plain": [
       "tensor([[-0.9320, -0.9801, -0.9637,  ...,  0.0048, -0.9446, -0.7424],\n",
       "        [-0.9016, -0.9748, -0.9654,  ..., -0.7492, -0.9970, -0.9083],\n",
       "        [-0.3205, -0.9114, -0.9799,  ...,  0.8942, -0.7878,  0.8329],\n",
       "        ...,\n",
       "        [ 0.6359, -0.8326,  0.5686,  ...,  0.7887, -0.5498, -0.0417],\n",
       "        [-0.1509, -0.7196, -0.5763,  ...,  0.9730, -0.3100,  0.6774],\n",
       "        [ 0.5189, -0.6726,  0.9146,  ...,  0.9398,  0.2203,  0.8483]])"
      ]
     },
     "execution_count": 245,
     "metadata": {},
     "output_type": "execute_result"
    }
   ],
   "source": [
    "h"
   ]
  },
  {
   "cell_type": "code",
   "execution_count": 246,
   "id": "4470835c-2667-4766-9919-5424ec4eff69",
   "metadata": {},
   "outputs": [
    {
     "data": {
      "text/plain": [
       "torch.Size([100])"
      ]
     },
     "execution_count": 246,
     "metadata": {},
     "output_type": "execute_result"
    }
   ],
   "source": [
    "b1.shape"
   ]
  },
  {
   "cell_type": "markdown",
   "id": "45590ae5-8f0e-4b91-81b7-aff472cb13c4",
   "metadata": {},
   "source": [
    "# 32 , 100\n",
    "   1 , 100"
   ]
  },
  {
   "cell_type": "code",
   "execution_count": 247,
   "id": "9e7e9e1e-7b3a-4db3-acb6-3515192eba19",
   "metadata": {},
   "outputs": [],
   "source": [
    "W2 =torch.randn(100,27)\n",
    "b2=torch.randn(27)\n"
   ]
  },
  {
   "cell_type": "code",
   "execution_count": 248,
   "id": "5629e907-2259-4a8d-8353-210c15d83816",
   "metadata": {},
   "outputs": [],
   "source": [
    "logits = h @W2+b2"
   ]
  },
  {
   "cell_type": "code",
   "execution_count": 249,
   "id": "40b9a21a-f021-4277-89a1-773562e5cd13",
   "metadata": {},
   "outputs": [
    {
     "data": {
      "text/plain": [
       "torch.Size([228146, 27])"
      ]
     },
     "execution_count": 249,
     "metadata": {},
     "output_type": "execute_result"
    }
   ],
   "source": [
    "logits.shape"
   ]
  },
  {
   "cell_type": "code",
   "execution_count": 250,
   "id": "8bbb8d75-3925-4e33-bdb6-7ce58b5edfcb",
   "metadata": {},
   "outputs": [],
   "source": [
    "counts=logits.exp()"
   ]
  },
  {
   "cell_type": "code",
   "execution_count": 251,
   "id": "6220fd53-d4de-496f-ba20-6a5c5b940e8c",
   "metadata": {},
   "outputs": [],
   "source": [
    "prob=counts/counts.sum(1, keepdims=True)\n"
   ]
  },
  {
   "cell_type": "code",
   "execution_count": 252,
   "id": "050736ed-8637-4e5e-a35d-601b2e9ad31a",
   "metadata": {},
   "outputs": [
    {
     "data": {
      "text/plain": [
       "torch.Size([228146, 27])"
      ]
     },
     "execution_count": 252,
     "metadata": {},
     "output_type": "execute_result"
    }
   ],
   "source": [
    "prob.shape"
   ]
  },
  {
   "cell_type": "code",
   "execution_count": 253,
   "id": "ae842ab5-4495-477c-a5e3-6d691dee77b3",
   "metadata": {},
   "outputs": [
    {
     "data": {
      "text/plain": [
       "tensor([ 0,  1,  2,  3,  4,  5,  6,  7,  8,  9, 10, 11, 12, 13, 14, 15, 16, 17,\n",
       "        18, 19, 20, 21, 22, 23, 24, 25, 26, 27, 28, 29, 30, 31])"
      ]
     },
     "execution_count": 253,
     "metadata": {},
     "output_type": "execute_result"
    }
   ],
   "source": [
    "torch.arange(32)"
   ]
  },
  {
   "cell_type": "code",
   "execution_count": 269,
   "id": "5a89f3a7-1643-459f-8795-fd92c9e010d0",
   "metadata": {},
   "outputs": [],
   "source": [
    "g=torch.Generator().manual_seed(2147483647)\n",
    "C=torch.randn((27,10),generator=g)\n",
    "W1=torch.randn((30,300),generator=g)\n",
    "b1=torch.randn(300,generator=g)\n",
    "W2=torch.randn((300,27),generator=g)\n",
    "b2=torch.randn(27,generator=g)\n",
    "parameters= [C,W1,b1,W2,b2]"
   ]
  },
  {
   "cell_type": "code",
   "execution_count": 270,
   "id": "12bd5ff2-edb3-4238-8eeb-28d0df42c3e6",
   "metadata": {},
   "outputs": [
    {
     "data": {
      "text/plain": [
       "17697"
      ]
     },
     "execution_count": 270,
     "metadata": {},
     "output_type": "execute_result"
    }
   ],
   "source": [
    "sum(p.nelement() for p in parameters)"
   ]
  },
  {
   "cell_type": "code",
   "execution_count": 271,
   "id": "7d3a73a7-561a-4f45-92bc-823cf38b8c3f",
   "metadata": {},
   "outputs": [],
   "source": [
    "for p in parameters:\n",
    "    p.requires_grad=True"
   ]
  },
  {
   "cell_type": "code",
   "execution_count": 272,
   "id": "77df0479-1ab0-4c41-9b5b-8fecc6332138",
   "metadata": {},
   "outputs": [],
   "source": [
    "lre=torch.linspace(-3,0,1000)\n",
    "lrs=10**lre\n"
   ]
  },
  {
   "cell_type": "code",
   "execution_count": 273,
   "id": "ec579260-2e33-4469-aeed-d389741c7cbb",
   "metadata": {},
   "outputs": [],
   "source": [
    "lri=[]\n",
    "lossi=[]\n",
    "stepi=[]"
   ]
  },
  {
   "cell_type": "code",
   "execution_count": 282,
   "id": "804ebda1-3717-4bf2-8393-5a7c80b42604",
   "metadata": {},
   "outputs": [],
   "source": [
    "\n",
    "for i in range(200000):\n",
    "\n",
    "    ix= torch.randint(0,Xtr.shape[0],(32,))\n",
    "    emb = C[Xtr[ix]]  #(32,3,2)\n",
    "    h=torch.tanh(emb.view(-1,30) @ W1 +b1)\n",
    "    logits = h @W2+b2\n",
    "    #counts=logits.exp()\n",
    "    #prob=counts/counts.sum(1, keepdims=True)\n",
    "    #loss= -prob[torch.arange(32),Y].log().mean()\n",
    "    \n",
    "    loss=F.cross_entropy(logits,Ytr[ix])\n",
    "    #print(loss.item())\n",
    "    for p in parameters:\n",
    "        p.grad=None\n",
    "    loss.backward()\n",
    "   # lr=lrs[i]\n",
    "    lr= 0.1 if i < 100000 else 0.01\n",
    "    for p in parameters:\n",
    "        p.data+= -lr* p.grad\n",
    "\n",
    "    #lri.append(lre[i])\n",
    "    stepi.append(i)\n",
    "    lossi.append(loss.log10().item())\n",
    "#print(loss.item())"
   ]
  },
  {
   "cell_type": "code",
   "execution_count": 279,
   "id": "c4001bb5-f4de-426b-983c-5e01aa3e1c3d",
   "metadata": {},
   "outputs": [
    {
     "data": {
      "text/plain": [
       "[<matplotlib.lines.Line2D at 0x3285aa150>]"
      ]
     },
     "execution_count": 279,
     "metadata": {},
     "output_type": "execute_result"
    },
    {
     "data": {
      "image/png": "[encoded data removed]",
      "text/plain": [
       "<Figure size 640x480 with 1 Axes>"
      ]
     },
     "metadata": {},
     "output_type": "display_data"
    }
   ],
   "source": [
    "plt.plot(stepi,lossi)"
   ]
  },
  {
   "cell_type": "code",
   "execution_count": 280,
   "id": "79bc2ae0-7713-4bb6-89c0-c316b2dbd86c",
   "metadata": {},
   "outputs": [
    {
     "data": {
      "text/plain": [
       "tensor(2.1109, grad_fn=<NllLossBackward0>)"
      ]
     },
     "execution_count": 280,
     "metadata": {},
     "output_type": "execute_result"
    }
   ],
   "source": [
    "emb = C[Xtr]  #(32,3,2)\n",
    "h=torch.tanh(emb.view(-1,30) @ W1 +b1)\n",
    "logits = h @W2+b2\n",
    "loss=F.cross_entropy(logits,Ytr)\n",
    "loss"
   ]
  },
  {
   "cell_type": "code",
   "execution_count": 281,
   "id": "7b6f2b9b-8ddb-475e-adf1-603957102b8e",
   "metadata": {},
   "outputs": [
    {
     "data": {
      "text/plain": [
       "tensor(2.1547, grad_fn=<NllLossBackward0>)"
      ]
     },
     "execution_count": 281,
     "metadata": {},
     "output_type": "execute_result"
    }
   ],
   "source": [
    "emb = C[Xdev]  #(32,3,2)\n",
    "h=torch.tanh(emb.view(-1,30) @ W1 +b1)\n",
    "logits = h @W2+b2\n",
    "loss=F.cross_entropy(logits,Ydev)\n",
    "loss"
   ]
  },
  {
   "cell_type": "code",
   "execution_count": 263,
   "id": "fb6accdc-dd47-429b-b105-9c8e17f4e988",
   "metadata": {},
   "outputs": [],
   "source": [
    "# taring split, dev/validation split and test split\n",
    "# 80 , 10 , 10  %"
   ]
  },
  {
   "cell_type": "code",
   "execution_count": 264,
   "id": "972aef4f-b736-4b57-b3d3-03cc23975bd0",
   "metadata": {},
   "outputs": [
    {
     "data": {
      "image/png": "[encoded data removed]",
      "text/plain": [
       "<Figure size 800x800 with 1 Axes>"
      ]
     },
     "metadata": {},
     "output_type": "display_data"
    }
   ],
   "source": [
    "plt.figure(figsize=(8,8))\n",
    "plt.scatter(C[:,0].data,C[:,1].data, s=200)\n",
    "for i in range(C.shape[0]):\n",
    "    plt.text(C[i,0].item(), C[i,1].item(), itos[i], ha=\"center\", va=\"center\", color=\"white\")\n",
    "plt.grid('minor')"
   ]
  }
 ],
 "metadata": {
  "kernelspec": {
   "display_name": "Python 3 (ipykernel)",
   "language": "python",
   "name": "python3"
  },
  "language_info": {
   "codemirror_mode": {
    "name": "ipython",
    "version": 3
   },
   "file_extension": ".py",
   "mimetype": "text/x-python",
   "name": "python",
   "nbconvert_exporter": "python",
   "pygments_lexer": "ipython3",
   "version": "3.11.9"
  }
 },
 "nbformat": 4,
 "nbformat_minor": 5
}
