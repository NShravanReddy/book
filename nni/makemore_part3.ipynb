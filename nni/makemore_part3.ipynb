{
 "cells": [
  {
   "cell_type": "code",
   "execution_count": 55,
   "id": "b977db46-40cd-4bdf-bd98-d98047e0f15e",
   "metadata": {},
   "outputs": [],
   "source": [
    "import torch\n",
    "import torch.nn.functional as F\n",
    "import matplotlib.pyplot as plt\n",
    "%matplotlib inline"
   ]
  },
  {
   "cell_type": "code",
   "execution_count": 56,
   "id": "b3b0f8e2-060a-41e6-a4f0-3fb7d46b1351",
   "metadata": {},
   "outputs": [
    {
     "data": {
      "text/plain": [
       "['emma', 'olivia', 'ava', 'isabella', 'sophia', 'charlotte', 'mia', 'amelia']"
      ]
     },
     "execution_count": 56,
     "metadata": {},
     "output_type": "execute_result"
    }
   ],
   "source": [
    "words= open('names.txt','r').read().splitlines()\n",
    "words[:8]"
   ]
  },
  {
   "cell_type": "code",
   "execution_count": 57,
   "id": "87cfe783-2156-4ffb-bb32-a509572ca120",
   "metadata": {},
   "outputs": [
    {
     "data": {
      "text/plain": [
       "32033"
      ]
     },
     "execution_count": 57,
     "metadata": {},
     "output_type": "execute_result"
    }
   ],
   "source": [
    "len(words)"
   ]
  },
  {
   "cell_type": "code",
   "execution_count": 58,
   "id": "0f04b2b6-b0af-43f4-9636-008bdd9270c7",
   "metadata": {},
   "outputs": [
    {
     "name": "stdout",
     "output_type": "stream",
     "text": [
      "['a', 'b', 'c', 'd', 'e', 'f', 'g', 'h', 'i', 'j', 'k', 'l', 'm', 'n', 'o', 'p', 'q', 'r', 's', 't', 'u', 'v', 'w', 'x', 'y', 'z']\n",
      "{'a': 1, 'b': 2, 'c': 3, 'd': 4, 'e': 5, 'f': 6, 'g': 7, 'h': 8, 'i': 9, 'j': 10, 'k': 11, 'l': 12, 'm': 13, 'n': 14, 'o': 15, 'p': 16, 'q': 17, 'r': 18, 's': 19, 't': 20, 'u': 21, 'v': 22, 'w': 23, 'x': 24, 'y': 25, 'z': 26}\n",
      "{'a': 1, 'b': 2, 'c': 3, 'd': 4, 'e': 5, 'f': 6, 'g': 7, 'h': 8, 'i': 9, 'j': 10, 'k': 11, 'l': 12, 'm': 13, 'n': 14, 'o': 15, 'p': 16, 'q': 17, 'r': 18, 's': 19, 't': 20, 'u': 21, 'v': 22, 'w': 23, 'x': 24, 'y': 25, 'z': 26, '.': 0}\n",
      "{1: 'a', 2: 'b', 3: 'c', 4: 'd', 5: 'e', 6: 'f', 7: 'g', 8: 'h', 9: 'i', 10: 'j', 11: 'k', 12: 'l', 13: 'm', 14: 'n', 15: 'o', 16: 'p', 17: 'q', 18: 'r', 19: 's', 20: 't', 21: 'u', 22: 'v', 23: 'w', 24: 'x', 25: 'y', 26: 'z', 0: '.'}\n",
      "27\n"
     ]
    }
   ],
   "source": [
    "chars =sorted(list(set(''.join(words))))\n",
    "stoi= {s:i+1 for i,s in enumerate(chars)}\n",
    "print(chars)\n",
    "print(stoi)\n",
    "stoi['.']=0\n",
    "print(stoi)\n",
    "itos= {s:i for i,s in stoi.items()}\n",
    "print(itos)\n",
    "vocab_size=len(itos)\n",
    "print(vocab_size)"
   ]
  },
  {
   "cell_type": "code",
   "execution_count": 59,
   "id": "837b5ad1-f5c8-46ac-841e-6fb915c792b3",
   "metadata": {},
   "outputs": [
    {
     "name": "stdout",
     "output_type": "stream",
     "text": [
      "torch.Size([182625, 3]) torch.Size([182625])\n",
      "torch.Size([22655, 3]) torch.Size([22655])\n",
      "torch.Size([22866, 3]) torch.Size([22866])\n"
     ]
    }
   ],
   "source": [
    "block_size = 3\n",
    "def build_dataset(words):\n",
    "    X , Y = [],[]\n",
    "\n",
    "    for w in words:\n",
    "        #print(w)\n",
    "        context = [0] * block_size\n",
    "        #print(context)\n",
    "        for ch in w + '.':\n",
    "            #print(ch)\n",
    "            ix= stoi[ch]\n",
    "            #print(ix)\n",
    "            X.append(context)\n",
    "            Y.append(ix)\n",
    "            context= context[1:] + [ix]\n",
    "    X=torch.tensor(X)\n",
    "    Y=torch.tensor(Y)\n",
    "    #print(\"X is\",X,Y)\n",
    "    print(X.shape,Y.shape)\n",
    "    return X,Y\n",
    "import random\n",
    "random.seed(42)\n",
    "random.shuffle(words)\n",
    "n1=int(0.8 * len(words))\n",
    "n2=int(0.9 * len(words))\n",
    "\n",
    "Xtr,Ytr= build_dataset(words[:n1])\n",
    "Xdev,Ydev= build_dataset(words[n1:n2])\n",
    "Xte, Yte= build_dataset(words[n2:])"
   ]
  },
  {
   "cell_type": "code",
   "execution_count": 60,
   "id": "7f201703-ce87-4308-a0e7-37b1e37025af",
   "metadata": {},
   "outputs": [
    {
     "name": "stdout",
     "output_type": "stream",
     "text": [
      "11897\n"
     ]
    }
   ],
   "source": [
    "n_embd =10\n",
    "n_hidden = 200\n",
    "\n",
    "g=torch.Generator().manual_seed(214783647)\n",
    "C= torch.randn((vocab_size, n_embd) ,          generator=g)\n",
    "W1=torch.randn((n_embd * block_size,n_hidden), generator=g) * (5/3)/((n_embd * block_size) ** 0.5)\n",
    "W2=torch.randn((n_hidden, vocab_size),         generator=g) *0.01\n",
    "b1=torch.randn(n_hidden,                       generator=g)*0.01\n",
    "b2=torch.randn(vocab_size ,                    generator=g)*0\n",
    "\n",
    "\n",
    "bngain= torch.ones((1, n_hidden))\n",
    "bnbias= torch.zeros((1, n_hidden))\n",
    "bnmean_running= torch.zeros(1,n_hidden)\n",
    "bnstd_running= torch.ones(1, n_hidden)\n",
    "\n",
    "parameters=[ C, W1, b1, W2, b2]\n",
    "\n",
    "print(sum(p.nelement() for p in parameters))\n",
    "for p in parameters:\n",
    "    p.requires_grad=True\n",
    "    "
   ]
  },
  {
   "cell_type": "code",
   "execution_count": 61,
   "id": "6e828ed3-04ec-4960-b429-e42bdc7042a0",
   "metadata": {},
   "outputs": [
    {
     "data": {
      "text/plain": [
       "tensor(0.2002)"
      ]
     },
     "execution_count": 61,
     "metadata": {},
     "output_type": "execute_result"
    }
   ],
   "source": [
    "(torch.randn(10000) * 0.2).std()"
   ]
  },
  {
   "cell_type": "code",
   "execution_count": 62,
   "id": "c5e7d93f-eff5-4c3d-8ccf-505c40629bd2",
   "metadata": {},
   "outputs": [
    {
     "name": "stdout",
     "output_type": "stream",
     "text": [
      "torch.Size([1000, 200])\n",
      "tensor(-0.0029) tensor(1.0036)\n",
      "tensor(0.0026) tensor(1.0032)\n"
     ]
    },
    {
     "data": {
      "image/png": "[encoded data removed]",
      "text/plain": [
       "<Figure size 2000x500 with 2 Axes>"
      ]
     },
     "metadata": {},
     "output_type": "display_data"
    }
   ],
   "source": [
    "x=torch.randn(1000, 10)\n",
    "w=torch.randn(10, 200) / 10**0.5\n",
    "y= x @ w\n",
    "print(y.shape)\n",
    "print(x.mean(), x.std())\n",
    "print(y.mean(), y.std())\n",
    "plt.figure(figsize=(20,5))\n",
    "plt.subplot(121)\n",
    "plt.hist(x.view(-1).tolist(), 50, density=True);\n",
    "plt.subplot(122)\n",
    "plt.hist(y.view(-1).tolist(), 50, density=True);\n"
   ]
  },
  {
   "cell_type": "code",
   "execution_count": 63,
   "id": "ceb29e6d-d627-45c5-8652-3728c0815f5d",
   "metadata": {},
   "outputs": [
    {
     "data": {
      "text/plain": [
       "torch.Size([32, 200])"
      ]
     },
     "execution_count": 63,
     "metadata": {},
     "output_type": "execute_result"
    }
   ],
   "source": [
    "hpreact.shape"
   ]
  },
  {
   "cell_type": "code",
   "execution_count": 64,
   "id": "f0013f38-0131-48f8-a913-8abd514c394a",
   "metadata": {},
   "outputs": [
    {
     "data": {
      "text/plain": [
       "torch.Size([1, 200])"
      ]
     },
     "execution_count": 64,
     "metadata": {},
     "output_type": "execute_result"
    }
   ],
   "source": [
    "hpreact.mean(0, keepdim=True).shape"
   ]
  },
  {
   "cell_type": "code",
   "execution_count": 65,
   "id": "ad9171c5-3052-49f9-b512-6581ecb5e7cc",
   "metadata": {},
   "outputs": [
    {
     "data": {
      "text/plain": [
       "torch.Size([1, 200])"
      ]
     },
     "execution_count": 65,
     "metadata": {},
     "output_type": "execute_result"
    }
   ],
   "source": [
    "hpreact.std(0, keepdim=True).shape"
   ]
  },
  {
   "cell_type": "code",
   "execution_count": 66,
   "id": "cd533643-7d09-43ca-b145-3c896d574ee1",
   "metadata": {},
   "outputs": [
    {
     "name": "stdout",
     "output_type": "stream",
     "text": [
      "      0/ 200000 : 3.2876\n",
      " 100000/ 200000 : 1.8224\n"
     ]
    }
   ],
   "source": [
    "max_steps= 200000\n",
    "batch_size= 32\n",
    "lossi=[]\n",
    "\n",
    "for i in range(max_steps):\n",
    "    ix = torch.randint(0, Xtr.shape[0], (batch_size,) , generator=g)\n",
    "    Xb,Yb= Xtr[ix],Ytr[ix]\n",
    "\n",
    "    #forward pass\n",
    "    emb= C[Xb]\n",
    "    embcat= emb.view(emb.shape[0],-1)\n",
    "    hpreact= embcat @ W1 + b1\n",
    "\n",
    "    #Batch Norm\n",
    "    bnmeani= hpreact.mean(0, keepdim=True)\n",
    "    bnstdi= hpreact.std(0, keepdim=True)\n",
    "    hpreact= bngain * (hpreact - bnmeani) / bnstdi +bnbias\n",
    "\n",
    "    with torch.no_grad():\n",
    "        bnmean_running= 0.999 * bnmean_running + 0.001 *bnmeani\n",
    "        bnstd_running= 0.999 * bnstd_running + 0.001 * bnstdi\n",
    "    \n",
    "    \n",
    "    \n",
    "    h=torch.tanh(hpreact)\n",
    "    logits= h@ W2+b2\n",
    "    loss= F.cross_entropy(logits, Yb)\n",
    "\n",
    "    for p in parameters:\n",
    "        p.grad= None\n",
    "    loss.backward()\n",
    "\n",
    "    lr = 0.1 if i<100000 else 0.01\n",
    "    for p in parameters:\n",
    "        p.data+= -lr*p.grad\n",
    "\n",
    "    if i% 100000 ==0:\n",
    "        print(f'{ i:7d}/{max_steps:7d} : {loss.item():.4f}')\n",
    "    lossi.append(loss.log10().item())\n",
    "    #break\n",
    "    "
   ]
  },
  {
   "cell_type": "code",
   "execution_count": 67,
   "id": "07660c85-5027-48bf-a21d-6f82b4a5748a",
   "metadata": {},
   "outputs": [
    {
     "data": {
      "text/plain": [
       "<matplotlib.image.AxesImage at 0x12fe95590>"
      ]
     },
     "execution_count": 67,
     "metadata": {},
     "output_type": "execute_result"
    },
    {
     "data": {
      "image/png": "[encoded data removed]",
      "text/plain": [
       "<Figure size 2000x1000 with 1 Axes>"
      ]
     },
     "metadata": {},
     "output_type": "display_data"
    }
   ],
   "source": [
    "plt.figure(figsize=(20,10))\n",
    "plt. imshow(h.abs ()> 0.99, cmap='gray', interpolation='nearest')"
   ]
  },
  {
   "cell_type": "code",
   "execution_count": 68,
   "id": "8fe40683-0f57-4d7d-956b-7af3e42b1090",
   "metadata": {},
   "outputs": [
    {
     "data": {
      "text/plain": [
       "tensor(-3.2958)"
      ]
     },
     "execution_count": 68,
     "metadata": {},
     "output_type": "execute_result"
    }
   ],
   "source": [
    "torch.tensor(1/27.0).log()"
   ]
  },
  {
   "cell_type": "code",
   "execution_count": 69,
   "id": "6d432e79-e8a6-4779-bdd1-6bb1286031b1",
   "metadata": {},
   "outputs": [
    {
     "data": {
      "text/plain": [
       "(tensor([1.0000e+00, 6.6129e-36, 0.0000e+00, 0.0000e+00]), tensor(inf))"
      ]
     },
     "execution_count": 69,
     "metadata": {},
     "output_type": "execute_result"
    }
   ],
   "source": [
    "#logits=torch.tensor([-3.0, 5.0, 0.0, 2.0])\n",
    "logits= torch.randn(4) * 100\n",
    "probs= torch.softmax(logits, dim=0)\n",
    "loss= -probs[2].log()\n",
    "probs, loss"
   ]
  },
  {
   "cell_type": "code",
   "execution_count": 70,
   "id": "190751c7-a478-4c8a-984e-d888ef44fb43",
   "metadata": {},
   "outputs": [
    {
     "data": {
      "text/plain": [
       "(array([184., 184., 139., 157., 116., 111., 125., 126., 128., 100., 127.,\n",
       "        142.,  97.,  94.,  98., 100., 113., 108., 110., 113., 134., 109.,\n",
       "        167., 149., 194., 157., 193., 173., 126., 130.,  79., 148., 109.,\n",
       "        105.,  92., 114.,  84., 100.,  98.,  75.,  95., 112., 102., 133.,\n",
       "        123., 138., 157., 164., 167., 201.]),\n",
       " array([-9.99523759e-01, -9.59549017e-01, -9.19574275e-01, -8.79599533e-01,\n",
       "        -8.39624791e-01, -7.99650049e-01, -7.59675307e-01, -7.19700565e-01,\n",
       "        -6.79725823e-01, -6.39751081e-01, -5.99776340e-01, -5.59801598e-01,\n",
       "        -5.19826856e-01, -4.79852114e-01, -4.39877372e-01, -3.99902630e-01,\n",
       "        -3.59927888e-01, -3.19953146e-01, -2.79978404e-01, -2.40003662e-01,\n",
       "        -2.00028920e-01, -1.60054178e-01, -1.20079436e-01, -8.01046944e-02,\n",
       "        -4.01299524e-02, -1.55210495e-04,  3.98195314e-02,  7.97942734e-02,\n",
       "         1.19769015e-01,  1.59743757e-01,  1.99718499e-01,  2.39693241e-01,\n",
       "         2.79667983e-01,  3.19642725e-01,  3.59617467e-01,  3.99592209e-01,\n",
       "         4.39566951e-01,  4.79541693e-01,  5.19516435e-01,  5.59491177e-01,\n",
       "         5.99465919e-01,  6.39440660e-01,  6.79415402e-01,  7.19390144e-01,\n",
       "         7.59364886e-01,  7.99339628e-01,  8.39314370e-01,  8.79289112e-01,\n",
       "         9.19263854e-01,  9.59238596e-01,  9.99213338e-01]),\n",
       " <BarContainer object of 50 artists>)"
      ]
     },
     "execution_count": 70,
     "metadata": {},
     "output_type": "execute_result"
    },
    {
     "data": {
      "image/png": "[encoded data removed]",
      "text/plain": [
       "<Figure size 640x480 with 1 Axes>"
      ]
     },
     "metadata": {},
     "output_type": "display_data"
    }
   ],
   "source": [
    "plt.hist(h.view(-1).tolist(), 50)"
   ]
  },
  {
   "cell_type": "code",
   "execution_count": 71,
   "id": "7631a5d7-f74a-461d-9736-2f21dab338c7",
   "metadata": {
    "scrolled": true
   },
   "outputs": [
    {
     "data": {
      "text/plain": [
       "[<matplotlib.lines.Line2D at 0x12d3fd710>]"
      ]
     },
     "execution_count": 71,
     "metadata": {},
     "output_type": "execute_result"
    },
    {
     "data": {
      "image/png": "[encoded data removed]",
      "text/plain": [
       "<Figure size 640x480 with 1 Axes>"
      ]
     },
     "metadata": {},
     "output_type": "display_data"
    }
   ],
   "source": [
    "plt.plot(lossi)"
   ]
  },
  {
   "cell_type": "code",
   "execution_count": 72,
   "id": "b6676d00-73cf-4cc8-acb0-2209a973d386",
   "metadata": {},
   "outputs": [],
   "source": [
    "with torch.no_grad():\n",
    "    emb = C[Xtr]  #(32,3,2)\n",
    "    embcat=emb.view(emb.shape[0], -1)\n",
    "    hpreact= embcat @ W1 + b1\n",
    "    bnmean= hpreact.mean(0, keepdim=True)\n",
    "    bnstd=hpreact.std(0, keepdim=True) "
   ]
  },
  {
   "cell_type": "code",
   "execution_count": 73,
   "id": "175d83f7-b591-4d15-86e3-e26b9b45bf14",
   "metadata": {},
   "outputs": [
    {
     "name": "stdout",
     "output_type": "stream",
     "text": [
      "train 2.0770483016967773\n",
      "val 2.115203857421875\n"
     ]
    }
   ],
   "source": [
    "@torch.no_grad()\n",
    "def split_loss(split):\n",
    "    x,y={\n",
    "        'train':(Xtr,Ytr),\n",
    "        'val':(Xdev,Ydev),\n",
    "        'test':(Xte,Yte),\n",
    "    }[split]\n",
    "    emb = C[x]  #(32,3,2)\n",
    "    embcat=emb.view(emb.shape[0], -1)\n",
    "    hpreact= embcat @ W1 + b1\n",
    "    hpreact= bngain * (hpreact - bnmean_running) / bnstd_running +bnbias\n",
    "    h=torch.tanh(hpreact)\n",
    "    logits = h @W2+b2\n",
    "    loss=F.cross_entropy(logits,y)\n",
    "    print(split, loss.item())\n",
    "split_loss('train')\n",
    "split_loss('val')"
   ]
  },
  {
   "cell_type": "code",
   "execution_count": 74,
   "id": "decf5625-952e-4195-86bb-69c2c238183b",
   "metadata": {},
   "outputs": [
    {
     "name": "stdout",
     "output_type": "stream",
     "text": [
      "narmahrablyn.\n",
      "kahlynne.\n",
      "revty.\n",
      "hathmeke.\n",
      "rahnikabhdiyah.\n",
      "kaquin.\n",
      "rummishcerihvon.\n",
      "najamvi.\n",
      "mackindleinna.\n",
      "rockevlynn.\n",
      "quinte.\n",
      "rudifryn.\n",
      "kakhellins.\n",
      "bley.\n",
      "zalin.\n",
      "kaleynantrevalan.\n",
      "busticsya.\n",
      "naq.\n",
      "zabz.\n",
      "zyllin.\n"
     ]
    }
   ],
   "source": [
    "g =torch.Generator().manual_seed(2147483647 +10)\n",
    "for _ in range(20):\n",
    "    out= []\n",
    "    context= [0]* block_size\n",
    "    while True:\n",
    "        emb= C[torch.tensor([context])]\n",
    "        h=torch.tanh(emb.view(1,-1) @ W1 +b1)\n",
    "        logits= h @ W2 +b2\n",
    "        probs= F.softmax(logits, dim=1)\n",
    "        ix= torch.multinomial(probs, num_samples=1, generator= g).item()\n",
    "        context = context[1:] + [ix]\n",
    "        out.append(ix)\n",
    "\n",
    "        if ix==0:\n",
    "             break\n",
    "    print(\"\".join(itos[i] for i in out))"
   ]
  },
  {
   "cell_type": "code",
   "execution_count": 6,
   "id": "da6ed607-cd63-4dd1-8c54-0b6b931de9e0",
   "metadata": {},
   "outputs": [],
   "source": [
    "class Linear:\n",
    "    def __init__(self, fan_in, fan_out, bias=True):\n",
    "        self.weight= torch.randn((fan_in, fan_out), generator=g) / fan_in **0.5\n",
    "        self.bias= torch.zeros(fan_out) if bias else None\n",
    "\n",
    "    def __call__ (self,x):\n",
    "        self.out = x @self.weight\n",
    "        if self.bias is not None:\n",
    "            self.out += self.bias\n",
    "        return self.out\n",
    "    def parameters(self):\n",
    "        return [self.weight] + ([] if self.bias is None else [self.bias])\n",
    "\n",
    "class BatchNorm1d:\n",
    "\n",
    "    def __init__(self, dim, eps=1e-5, momentum=0.1):\n",
    "        self.eps= eps\n",
    "        self.momentum= momentum\n",
    "        self.training= True\n",
    "        self.gamma= torch.ones(dim)\n",
    "        self.beta= torch.zeros(dim)\n",
    "\n",
    "        self.running_mean=torch.zeros(dim)\n",
    "        self.running_var= torch.ones(dim)\n",
    "\n",
    "    def __call__(self, x):\n",
    "        if self.training:\n",
    "            xmean = x.mean(0, keepdim=True)\n",
    "            xvar= x.var(0, keepdim= True, unbiased= True)\n",
    "        else:\n",
    "            xmean= self.running_mean\n",
    "            xvar= self.running_var\n",
    "        xhat= (x-xmean) / torch.sqrt(xvar +self.eps)\n",
    "        self.out= self.gamma *xhat +self.bias\n",
    "\n",
    "        if self.training:\n",
    "            with torch.no_grad():\n",
    "                self.running_mean=(1-self.momentum)*self.running_mean * xmean\n",
    "                self.running_var= (1- self.momentum) * self.running_var + self.momentum * xvar\n",
    "        return self.out\n",
    "    def parameters(self):\n",
    "        return [self.gamma, self.beta]\n",
    "\n",
    "class Tanh:\n",
    "    def __call__(self,x):\n",
    "        self.out=torch.tanh(x)\n",
    "        return self.out\n",
    "    def parameters(self):\n",
    "        return []\n",
    "\n",
    "n_embd= 10\n",
    "n_hidden= 100\n",
    "g= torch.Generator().manual_seed(2147483647)\n",
    "\n",
    "C=torch.randn((vocab_size, n_embd), generator=g)\n"
   ]
  },
  {
   "cell_type": "code",
   "execution_count": null,
   "id": "e1928b65-c387-40aa-b937-1707082e7339",
   "metadata": {},
   "outputs": [],
   "source": []
  }
 ],
 "metadata": {
  "kernelspec": {
   "display_name": "Python 3 (ipykernel)",
   "language": "python",
   "name": "python3"
  },
  "language_info": {
   "codemirror_mode": {
    "name": "ipython",
    "version": 3
   },
   "file_extension": ".py",
   "mimetype": "text/x-python",
   "name": "python",
   "nbconvert_exporter": "python",
   "pygments_lexer": "ipython3",
   "version": "3.11.9"
  }
 },
 "nbformat": 4,
 "nbformat_minor": 5
}
